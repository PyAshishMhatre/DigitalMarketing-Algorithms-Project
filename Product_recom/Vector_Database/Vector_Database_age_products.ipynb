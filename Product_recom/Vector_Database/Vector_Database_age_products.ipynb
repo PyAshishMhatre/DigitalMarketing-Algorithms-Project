{
  "nbformat": 4,
  "nbformat_minor": 0,
  "metadata": {
    "colab": {
      "provenance": []
    },
    "kernelspec": {
      "name": "python3",
      "display_name": "Python 3"
    },
    "language_info": {
      "name": "python"
    }
  },
  "cells": [
    {
      "cell_type": "code",
      "execution_count": 1,
      "metadata": {
        "colab": {
          "base_uri": "https://localhost:8080/"
        },
        "id": "WGWiW43bgbRg",
        "outputId": "5daf07ce-bc48-495f-9bc2-e0691e8cf7a4"
      },
      "outputs": [
        {
          "output_type": "stream",
          "name": "stdout",
          "text": [
            "\u001b[2K     \u001b[90m━━━━━━━━━━━━━━━━━━━━━━━━━━━━━━━━━━━━━━\u001b[0m \u001b[32m235.9/235.9 kB\u001b[0m \u001b[31m12.2 MB/s\u001b[0m eta \u001b[36m0:00:00\u001b[0m\n",
            "\u001b[2K     \u001b[90m━━━━━━━━━━━━━━━━━━━━━━━━━━━━━━━━━━━━━━━\u001b[0m \u001b[32m177.2/177.2 kB\u001b[0m \u001b[31m3.7 MB/s\u001b[0m eta \u001b[36m0:00:00\u001b[0m\n",
            "\u001b[2K     \u001b[90m━━━━━━━━━━━━━━━━━━━━━━━━━━━━━━━━━━━━━━━━\u001b[0m \u001b[32m60.0/60.0 kB\u001b[0m \u001b[31m3.7 MB/s\u001b[0m eta \u001b[36m0:00:00\u001b[0m\n",
            "\u001b[2K     \u001b[90m━━━━━━━━━━━━━━━━━━━━━━━━━━━━━━━━━━━━━━\u001b[0m \u001b[32m283.7/283.7 kB\u001b[0m \u001b[31m14.4 MB/s\u001b[0m eta \u001b[36m0:00:00\u001b[0m\n",
            "\u001b[?25h"
          ]
        }
      ],
      "source": [
        "!pip install unidecode -q\n",
        "!pip install --quiet -U pinecone-client"
      ]
    },
    {
      "cell_type": "code",
      "source": [
        "import numpy as np\n",
        "import pandas as pd\n",
        "import itertools\n",
        "from unidecode import unidecode\n",
        "import pinecone\n",
        "\n",
        "pinecone.init(api_key= 'XX', environment='XX')\n",
        "\n",
        "# Set a name for your index\n",
        "index_name = 'age-products'\n",
        "\n",
        "# Make sure service with the same name does not exist\n",
        "if index_name in pinecone.list_indexes():\n",
        "    pinecone.delete_index(index_name)\n",
        "pinecone.create_index(name=index_name, dimension=100)\n",
        "\n",
        "\n",
        "index = pinecone.Index(index_name=index_name)\n",
        "\n",
        "products = pd.read_csv('https://raw.githubusercontent.com/ashwinkadam/DigitalMarketing-Algorithms-Project/main/Product_recom/products.csv')\n",
        "# Get all of the items\n",
        "all_items = [str(title) for title in products['name'][:2]]\n",
        "    \n",
        "# Replace non-ASCII characters in item IDs with ASCII equivalents\n",
        "all_items_ascii = [unidecode(title) for title in all_items]\n",
        "    \n",
        "# Transform items into factors\n",
        "items_factors = np.load('age_factors.npy')\n",
        "    \n",
        "# Prepare item factors for upload\n",
        "items_to_insert = list(zip(all_items_ascii, items_factors[1:].tolist()))\n"
      ],
      "metadata": {
        "id": "UR4Dd8vVgejX"
      },
      "execution_count": 8,
      "outputs": []
    },
    {
      "cell_type": "code",
      "source": [
        "def chunks(iterable, batch_size=100):\n",
        "    it = iter(iterable)\n",
        "    chunk = tuple(itertools.islice(it, batch_size))\n",
        "    while chunk:\n",
        "        yield chunk\n",
        "        chunk = tuple(itertools.islice(it, batch_size))\n",
        "\n",
        "print('Index statistics before upsert:', index.describe_index_stats())\n",
        "\n",
        "for e, batch in enumerate(chunks([(ii[:64],x) for ii,x in items_to_insert])):index.upsert(vectors=batch)\n",
        "\n",
        "print('Index statistics after upsert:', index.describe_index_stats())"
      ],
      "metadata": {
        "colab": {
          "base_uri": "https://localhost:8080/"
        },
        "id": "HTvMlK1yhl-d",
        "outputId": "c9d5c97e-3690-45fc-a762-952e91fb1599"
      },
      "execution_count": 7,
      "outputs": [
        {
          "output_type": "stream",
          "name": "stdout",
          "text": [
            "Index statistics before upsert: {'dimension': 100,\n",
            " 'index_fullness': 0.0,\n",
            " 'namespaces': {},\n",
            " 'total_vector_count': 0}\n",
            "Index statistics after upsert: {'dimension': 100,\n",
            " 'index_fullness': 0.0,\n",
            " 'namespaces': {'': {'vector_count': 27221}},\n",
            " 'total_vector_count': 27221}\n"
          ]
        }
      ]
    }
  ]
}