{
  "nbformat": 4,
  "nbformat_minor": 0,
  "metadata": {
    "colab": {
      "provenance": [],
      "authorship_tag": "ABX9TyMddQXi2eSjSyKkMSOVqH7D",
      "include_colab_link": true
    },
    "kernelspec": {
      "name": "python3",
      "display_name": "Python 3"
    },
    "language_info": {
      "name": "python"
    }
  },
  "cells": [
    {
      "cell_type": "markdown",
      "metadata": {
        "id": "view-in-github",
        "colab_type": "text"
      },
      "source": [
        "<a href=\"https://colab.research.google.com/github/PyAshishMhatre/DigitalMarketing-Algorithms-Project/blob/main/QA_System.ipynb\" target=\"_parent\"><img src=\"https://colab.research.google.com/assets/colab-badge.svg\" alt=\"Open In Colab\"/></a>"
      ]
    },
    {
      "cell_type": "code",
      "source": [
        "# Installing Libraries\n",
        "!pip install pytube -q\n",
        "!pip install git+https://github.com/openai/whisper.git -"
      ],
      "metadata": {
        "id": "2vmhb5xbNkS1"
      },
      "execution_count": null,
      "outputs": []
    },
    {
      "cell_type": "code",
      "source": [
        "from pytube import YouTube\n",
        "import whisper\n",
        "from tqdm import tqdm"
      ],
      "metadata": {
        "id": "djaTgz__Nj7t"
      },
      "execution_count": 4,
      "outputs": []
    },
    {
      "cell_type": "code",
      "execution_count": 62,
      "metadata": {
        "id": "xp99kaHxIIFd"
      },
      "outputs": [],
      "source": [
        "model = whisper.load_model('tiny')\n",
        "\n",
        "# Function to download video and get transcriptions\n",
        "def get_transcriptions(url, model):\n",
        "    yt_video = YouTube(url)\n",
        "    stream = yt_video.streams.filter(only_audio=True)\n",
        "    stream = stream.first()\n",
        "    stream.download(filename=\"test.mp4\")\n",
        "    output = model.transcribe(\"test.mp4\")\n",
        "\n",
        "    filename = \"test.txt\" # the name of the file to be saved\n",
        "\n",
        "    with open(filename, \"w\") as file:\n",
        "      file.write(output[\"text\"])\n",
        "    return "
      ]
    },
    {
      "cell_type": "code",
      "source": [
        "# List of 5 video URLs\n",
        "video_urls = [#\"https://www.youtube.com/watch?v=blbvVUxD41Q&ab_channel=Locust%26WildHoney\",\n",
        "              #\"https://www.youtube.com/watch?v=9hktZEc3Vhs&ab_channel=STYLEDBYNATE\",\n",
        "              #\"https://www.youtube.com/watch?v=C9nVeYwS_8E&ab_channel=Men%27sFashionFiles\",\n",
        "              #\"https://www.youtube.com/watch?v=7fJcrPjAa1I&ab_channel=UniqloReviews\",\n",
        "              \"https://www.youtube.com/watch?v=YtjHtPySBAA&ab_channel=HarryHas\"]\n",
        "\n",
        "# Loop through each video URL and get transcriptions\n",
        "for url in tqdm(video_urls):\n",
        "  get_transcriptions(url, model)"
      ],
      "metadata": {
        "colab": {
          "base_uri": "https://localhost:8080/"
        },
        "id": "4rupXLnvIjjg",
        "outputId": "390a0fb3-a1a6-4bb3-8157-7ffa9afe1f7d"
      },
      "execution_count": 66,
      "outputs": [
        {
          "output_type": "stream",
          "name": "stderr",
          "text": [
            "\r  0%|          | 0/1 [00:00<?, ?it/s]/usr/local/lib/python3.9/dist-packages/whisper/transcribe.py:114: UserWarning: FP16 is not supported on CPU; using FP32 instead\n",
            "  warnings.warn(\"FP16 is not supported on CPU; using FP32 instead\")\n",
            "100%|██████████| 1/1 [01:19<00:00, 79.16s/it]\n"
          ]
        }
      ]
    },
    {
      "cell_type": "code",
      "source": [
        "!pip install langchain\n",
        "!pip install openai\n",
        "!pip install chromadb"
      ],
      "metadata": {
        "id": "W0JFXLnLR3iN"
      },
      "execution_count": null,
      "outputs": []
    },
    {
      "cell_type": "code",
      "source": [
        "from langchain.vectorstores import Chroma\n",
        "from langchain.document_loaders import DirectoryLoader\n",
        "from langchain.embeddings import OpenAIEmbeddings\n",
        "from langchain.text_splitter import RecursiveCharacterTextSplitter\n",
        "from langchain.llms import OpenAI\n",
        "from langchain.document_loaders import TextLoader\n",
        "from typing import List\n",
        "from langchain.chains import RetrievalQA\n",
        "from langchain.schema import Document\n",
        "import os"
      ],
      "metadata": {
        "id": "22F3YU68NYM0"
      },
      "execution_count": 94,
      "outputs": []
    },
    {
      "cell_type": "code",
      "source": [
        "os.environ['OPENAI_API_KEY'] = \"\""
      ],
      "metadata": {
        "id": "Kh5qbOFBSHhF"
      },
      "execution_count": 90,
      "outputs": []
    },
    {
      "cell_type": "code",
      "source": [
        "loader = DirectoryLoader('./Document', glob=\"**/*.txt\", loader_cls=TextLoader, show_progress=True)"
      ],
      "metadata": {
        "id": "2OhteJdfgGNr"
      },
      "execution_count": 71,
      "outputs": []
    },
    {
      "cell_type": "code",
      "source": [
        "docs = loader.load()"
      ],
      "metadata": {
        "colab": {
          "base_uri": "https://localhost:8080/"
        },
        "id": "tTlI57y1gZS3",
        "outputId": "dc1946e1-d3db-425f-9272-eada1b80914b"
      },
      "execution_count": 72,
      "outputs": [
        {
          "output_type": "stream",
          "name": "stderr",
          "text": [
            "100%|██████████| 9/9 [00:00<00:00, 5036.52it/s]\n"
          ]
        }
      ]
    },
    {
      "cell_type": "code",
      "source": [
        "len(docs)"
      ],
      "metadata": {
        "colab": {
          "base_uri": "https://localhost:8080/"
        },
        "id": "-0M98EqxgcfV",
        "outputId": "5dc78f2e-04ba-40f6-d9c6-1afbf6028dea"
      },
      "execution_count": 73,
      "outputs": [
        {
          "output_type": "execute_result",
          "data": {
            "text/plain": [
              "9"
            ]
          },
          "metadata": {},
          "execution_count": 73
        }
      ]
    },
    {
      "cell_type": "code",
      "source": [
        "text_splitter = RecursiveCharacterTextSplitter(chunk_size=1000, chunk_overlap=0)\n",
        "texts = text_splitter.split_documents(docs)"
      ],
      "metadata": {
        "id": "_SbspdJWgdWN"
      },
      "execution_count": 78,
      "outputs": []
    },
    {
      "cell_type": "code",
      "source": [
        "embeddings = OpenAIEmbeddings()\n",
        "vectordb = Chroma.from_documents(texts, embeddings)"
      ],
      "metadata": {
        "colab": {
          "base_uri": "https://localhost:8080/"
        },
        "id": "ZwUQa-TAh0vx",
        "outputId": "3a9b1a49-2435-4cd6-8475-a812a4a810ef"
      },
      "execution_count": 91,
      "outputs": [
        {
          "output_type": "stream",
          "name": "stderr",
          "text": [
            "WARNING:chromadb:Using embedded DuckDB without persistence: data will be transient\n"
          ]
        }
      ]
    },
    {
      "cell_type": "code",
      "source": [
        "qa = RetrievalQA.from_chain_type(llm=OpenAI(), chain_type=\"stuff\", retriever=vectordb.as_retriever(), veborse)"
      ],
      "metadata": {
        "id": "9iE_6jTUk6bc"
      },
      "execution_count": 96,
      "outputs": []
    },
    {
      "cell_type": "code",
      "source": [
        "query = \"How is shirt fitting describe for a particular shirt explain to 5 year old ?\"\n"
      ],
      "metadata": {
        "id": "NGkgdM2Km06t"
      },
      "execution_count": 106,
      "outputs": []
    },
    {
      "cell_type": "code",
      "source": [
        "result = qa.run(query)"
      ],
      "metadata": {
        "id": "eDkjrfbhnPc-"
      },
      "execution_count": 107,
      "outputs": []
    },
    {
      "cell_type": "code",
      "source": [
        "result"
      ],
      "metadata": {
        "colab": {
          "base_uri": "https://localhost:8080/",
          "height": 70
        },
        "id": "ARcjW9TAnQ-b",
        "outputId": "3f3397c9-96d4-4dbb-829d-6c9ad028366b"
      },
      "execution_count": 108,
      "outputs": [
        {
          "output_type": "execute_result",
          "data": {
            "text/plain": [
              "' The particular shirt is described as having a boxy fit, feeling thinner, more rough, and more restrictive than it used to be. It has a tighter hem at the bottom, and the sleeve fits the same as it used to. To explain this to a 5 year old, you could say that the shirt fits more snugly than it used to, and it may feel a bit scratchy.'"
            ],
            "application/vnd.google.colaboratory.intrinsic+json": {
              "type": "string"
            }
          },
          "metadata": {},
          "execution_count": 108
        }
      ]
    },
    {
      "cell_type": "code",
      "source": [],
      "metadata": {
        "id": "8MafN2vknbSw"
      },
      "execution_count": null,
      "outputs": []
    }
  ]
}